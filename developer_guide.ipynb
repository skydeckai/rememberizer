{
 "cells": [
  {
   "cell_type": "markdown",
   "metadata": {},
   "source": [
    "# Rememberizer Developer Guide\n",
    "\n",
    "Thank you for your interest in developing applications with Rememberizer. This guide is designed to walk you through the process of developing an application that integrates with Rememberizer, enhancing it by consolidating your users' content sources into personalized, dynamic knowledge bases.\n",
    "\n",
    "To begin, you'll need to set up a server to handle the authorization callback. This is a crucial step in the OAuth2 flow. To facilitate this, we provide a simple Flask application in `callback.py` within this repository to help you get started quickly and efficiently.\n",
    "\n",
    "## Basic Steps to Connect Your Application to Rememberizer:\n",
    "\n",
    "1. **Register Your Application**: First, create a Rememberizer account and [register your application with Rememberizer](https://docs.rememberizer.ai/developer/registering-rememberizer-apps). This is a necessary step to obtain the credentials needed for the OAuth2 flow and API access.\n",
    "2. **User Authorization**: Implement the OAuth2 flow to allow your users to authorize your application to access their Rememberizer data. This step is crucial for obtaining the access tokens needed to interact with the Rememberizer APIs.\n",
    "3. **Utilize Rememberizer's APIs**: With the access tokens, your application can now make requests to Rememberizer's APIs. These APIs allow you to query and search through the user's data, enabling the integration of dynamic, personalized content into your application.\n",
    "\n",
    "This guide will primarily focus on steps 2 and 3. For step 1, please ensure to follow the detailed instructions provided in the [Rememberizer app registration documentation](https://docs.rememberizer.ai/developer/registering-rememberizer-apps).\n",
    "\n",
    "If you currently lack a server setup for handling the authorization callback, you can quickly get started with our provided Flask app. Running the following command will start a server on `http://localhost:5000/callback`, which will serve as the receiver for the authorization code:\n",
    "\n",
    "\n",
    "    python callback_server.py\n"
   ]
  },
  {
   "cell_type": "code",
   "execution_count": null,
   "metadata": {},
   "outputs": [],
   "source": [
    "import os\n",
    "import requests, json\n",
    "from IPython.display import display, HTML"
   ]
  },
  {
   "cell_type": "markdown",
   "metadata": {},
   "source": [
    "## Authenticate with Rememberizer"
   ]
  },
  {
   "cell_type": "markdown",
   "metadata": {},
   "source": [
    "Rememberizer's integration process adheres to the standard [Authorization Code Grant Type](https://tools.ietf.org/html/rfc6749#section-4.1), a secure method recommended for authenticating and authorizing users.\n",
    "\n",
    "### Initiating the Authorization Process\n",
    "\n",
    "To initiate the OAuth2 authorization process, your application must first redirect the user to Rememberizer's authorization URL. This is where the user will authenticate and choose which data (referred to as \"mementos\") to permit your application to access. Constructing this authorization URL involves appending several important query parameters:\n",
    "\n",
    "- `client_id`: Your application's unique client ID, obtainable from the Developer Hub after registering your application with Rememberizer.\n",
    "- `response_type`: This parameter should be set to `code`, indicating that you are using the authorization code grant type.\n",
    "- `scope`: A space-delimited list of permissions your application is requesting. Each scope specifies access to a different type of data or action on behalf of the user.\n",
    "- `state`: A CSRF (Cross-Site Request Forgery) token or other random string used to maintain state between the request and callback, enhancing security against CSRF attacks.\n",
    "\n",
    "#### Constructing the Authorization URL:\n",
    "\n",
    "The base URL for authorization will look something like this (not an actual URL, replace with Rememberizer's authorization endpoint):\n",
    "\n",
    "    https://api.rememberizer.ai/api/v1/auth/oauth2/authorize\n",
    "\n",
    "To this base URL, add the required query parameters, forming a complete URL:\n",
    "    https://api.rememberizer.ai/api/v1/auth/oauth2/authorize?client_id=YOUR_CLIENT_ID&response_type=code&scope=REQUESTED_SCOPES&state=RANDOM_STATE\n",
    "\n",
    "\n",
    "Replace `YOUR_CLIENT_ID`, `REQUESTED_SCOPES`, and `RANDOM_STATE` with your actual `client_id`, the scopes you're requesting, and a securely generated random state value, respectively.\n",
    "\n",
    "Redirecting the user to this URL will start the authorization process. After logging in and approving access to their data, Rememberizer will redirect the user back to your application with an authorization code, which you can then exchange for an access token.\n"
   ]
  },
  {
   "cell_type": "code",
   "execution_count": null,
   "metadata": {},
   "outputs": [],
   "source": [
    "client_id = os.environ[\"CLIENT_ID\"]\n",
    "client_secret = os.environ[\"CLIENT_SECRET\"]\n",
    "\n",
    "redirect_uri = 'http://localhost:5000/callback'\n",
    "scope = 'offline_access'  # Set this to offline access to get a refresh token. Otherwise you can left it as blank\n",
    "state= '12345'\n",
    "\n",
    "auth_url = 'https://api.rememberizer.ai/api/v1/auth/oauth2/authorize?response_type=code&client_id={}&redirect_uri={}&scope={}&state={}'.format(client_id, redirect_uri, scope, state)\n",
    "\n",
    "# You need to redirect user to auth_url in your app. For now, you need to click on the link display. This will take you to the browser where you can login with Rememberizer and select Memento for your app.\n",
    "# After authorizing, you will be redirected back to your callback_uri. You can get your authorization code there. If you're running the provided Flask server, you will be redirected to http://localhost:5000?code=AUTHORIZATION_CODE.\n",
    "# Copy the code and paste it in the input field in this notebook.\n",
    "\n",
    "display(HTML('<a href=\"{}\" target=\"_blank\"><h2>Click here to authenticate with Rememberizer</h2></a>'.format(auth_url)))\n",
    "auth_code = input(\"Enter the authorization code: \")\n",
    "print(\"Successfully getting authorization code.\")"
   ]
  },
  {
   "cell_type": "markdown",
   "metadata": {},
   "source": [
    "## Exchange authorization code for access token\n",
    "\n",
    "After getting the authorization code, you need to exchange it by calling the exchange token endpoint. You will need to supply the client secret in this step."
   ]
  },
  {
   "cell_type": "code",
   "execution_count": null,
   "metadata": {},
   "outputs": [],
   "source": [
    "token_url = 'https://api.rememberizer.ai/api/v1/auth/oauth2/token/'\n",
    "\n",
    "# Make the request for the access token\n",
    "data = {\n",
    "    'grant_type': 'authorization_code',\n",
    "    'code': auth_code,\n",
    "    'redirect_uri': redirect_uri,\n",
    "    'client_id': client_id,\n",
    "    'client_secret': client_secret\n",
    "}\n",
    "\n",
    "response = requests.post(token_url, data=data)\n",
    "tokens = response.json()\n",
    "\n",
    "if 'error' not in tokens:\n",
    "    access_token = tokens.get('access_token')\n",
    "    refresh_token = tokens.get('refresh_token')\n",
    "    print(\"Successfully getting the access token.\")\n",
    "else:\n",
    "    print(\"Error getting the access token:\")\n",
    "    print(tokens)"
   ]
  },
  {
   "cell_type": "markdown",
   "metadata": {},
   "source": [
    "### (Optionaly) Use refresh token to refresh access token\n",
    "Access token expires after a while. If you want to refresh it, you can call the exchange token with the parameters below."
   ]
  },
  {
   "cell_type": "code",
   "execution_count": null,
   "metadata": {},
   "outputs": [],
   "source": [
    "token_url = 'https://api.rememberizer.ai/api/v1/auth/oauth2/token/'\n",
    "\n",
    "data = {\n",
    "    'grant_type': 'refresh_token',\n",
    "    'refresh_token': refresh_token,\n",
    "    'redirect_uri': redirect_uri,\n",
    "    'client_id': client_id,\n",
    "    'client_secret': client_secret\n",
    "}\n",
    "\n",
    "response = requests.post(token_url, data=data)\n",
    "tokens = response.json()\n",
    "\n",
    "if 'error' not in tokens:\n",
    "    access_token = tokens.get('access_token')\n",
    "    refresh_token = tokens.get('refresh_token')\n",
    "    print(\"Successfully getting the access token.\")\n",
    "else:\n",
    "    print(\"Error getting the access token:\")\n",
    "    print(tokens)"
   ]
  },
  {
   "cell_type": "markdown",
   "metadata": {},
   "source": [
    "## Use access token to call Rememberizer APIs\n",
    "\n",
    "Congratulation! You have acquired the access token. You can now attach it to the request header and make request to Rememberizer APIs."
   ]
  },
  {
   "cell_type": "code",
   "execution_count": null,
   "metadata": {},
   "outputs": [],
   "source": [
    "def call_api(api_url):\n",
    "    headers = {'Authorization': 'Bearer ' + access_token}\n",
    "    response = requests.get(api_url, headers=headers)\n",
    "    return response.json()"
   ]
  },
  {
   "cell_type": "code",
   "execution_count": null,
   "metadata": {},
   "outputs": [],
   "source": [
    "print(json.dumps(call_api('https://api.rememberizer.ai/api/v1/integrations'), indent=2))"
   ]
  },
  {
   "cell_type": "code",
   "execution_count": null,
   "metadata": {},
   "outputs": [],
   "source": [
    "print(json.dumps(call_api('https://api.rememberizer.ai/api/v1/account'), indent=2))"
   ]
  },
  {
   "cell_type": "code",
   "execution_count": null,
   "metadata": {},
   "outputs": [],
   "source": [
    "print(json.dumps(call_api('https://api.rememberizer.ai/api/v1/documents'), indent=2))"
   ]
  },
  {
   "cell_type": "code",
   "execution_count": null,
   "metadata": {},
   "outputs": [],
   "source": [
    "print(json.dumps(call_api('https://api.rememberizer.ai/api/v1/documents/search?q=kitty'), indent=2))"
   ]
  },
  {
   "cell_type": "code",
   "execution_count": null,
   "metadata": {},
   "outputs": [],
   "source": []
  }
 ],
 "metadata": {
  "kernelspec": {
   "display_name": "Python 3",
   "language": "python",
   "name": "python3"
  },
  "language_info": {
   "codemirror_mode": {
    "name": "ipython",
    "version": 3
   },
   "file_extension": ".py",
   "mimetype": "text/x-python",
   "name": "python",
   "nbconvert_exporter": "python",
   "pygments_lexer": "ipython3",
   "version": "3.11.7"
  }
 },
 "nbformat": 4,
 "nbformat_minor": 2
}
